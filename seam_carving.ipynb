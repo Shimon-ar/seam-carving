{
  "nbformat": 4,
  "nbformat_minor": 0,
  "metadata": {
    "colab": {
      "name": "seam_carving.ipynb",
      "provenance": [],
      "collapsed_sections": [],
      "authorship_tag": "ABX9TyMek0rr/5liqokic06icXVE",
      "include_colab_link": true
    },
    "kernelspec": {
      "display_name": "Python 3",
      "name": "python3"
    },
    "language_info": {
      "name": "python"
    }
  },
  "cells": [
    {
      "cell_type": "markdown",
      "metadata": {
        "id": "view-in-github",
        "colab_type": "text"
      },
      "source": [
        "<a href=\"https://colab.research.google.com/github/Shimon-ar/seam-carving/blob/main/seam_carving.ipynb\" target=\"_parent\"><img src=\"https://colab.research.google.com/assets/colab-badge.svg\" alt=\"Open In Colab\"/></a>"
      ]
    },
    {
      "cell_type": "code",
      "metadata": {
        "id": "Q8KmiX8rVK7s"
      },
      "source": [
        "import numpy as np\n",
        "import cv2 as cv\n",
        "from google.colab.patches import cv2_imshow\n",
        "import matplotlib.pyplot as plt\n",
        "import time\n",
        "\n",
        "from PIL import Image\n",
        "import io as io\n",
        "from skimage import io as skimage_io \n",
        "import urllib\n",
        "\n",
        "!pip install anvil-uplink\n",
        "import anvil.media\n",
        "import anvil.server\n",
        "anvil.server.connect(\"YA6JKGHCNQ5PLAOLCLZOPJS5-4IUH7CMMIZ3AABLA\")\n"
      ],
      "execution_count": 51,
      "outputs": []
    },
    {
      "cell_type": "code",
      "metadata": {
        "id": "ChMSQ0nXsqA3"
      },
      "source": [
        "# Constants \n",
        "\n",
        "ROW = 640\n",
        "WIDTH = 420\n",
        "SCALE = 0.8\n",
        "NEG_VALUE = -1000\n",
        "num_img = 6\n",
        "images = []\n",
        "i_img = -1\n",
        "\n",
        "path = '/content/drive/MyDrive/images/'\n",
        "img_names = ['pelicans.jpg', 'buildings.jpg', 'couple.jpg', 'couple2.jpg', 'road.jpg', 'beach.jpg']"
      ],
      "execution_count": null,
      "outputs": []
    },
    {
      "cell_type": "code",
      "metadata": {
        "id": "TMagTUSMnClr"
      },
      "source": [
        "from google.colab import drive\n",
        "drive.mount('/content/drive/')"
      ],
      "execution_count": 52,
      "outputs": []
    },
    {
      "cell_type": "code",
      "metadata": {
        "id": "fyBEkwDAgAog"
      },
      "source": [
        "# Gets img as numpy array \n",
        "# Return energy map E1\n",
        " \n",
        "def get_energy_map(img):\n",
        "  img_grey = cv.cvtColor(img,cv.COLOR_BGR2GRAY)\n",
        "  img_d_x = np.absolute(cv.Sobel(img_grey,cv.CV_64F,1,0,ksize=1))\n",
        "  img_d_y = np.absolute(cv.Sobel(img_grey,cv.CV_64F,0,1,ksize=1))\n",
        "  return np.uint8(img_d_x + img_d_y)"
      ],
      "execution_count": null,
      "outputs": []
    },
    {
      "cell_type": "code",
      "metadata": {
        "id": "vl1W-G2Hg95k"
      },
      "source": [
        "# Gets img, and energy map\n",
        "# Calculate M matrix\n",
        "# return optimal seam in the image as array of column indexs\n",
        "\n",
        "def get_min_seam(img, e):\n",
        "  r, c, _ = img.shape\n",
        "\n",
        "  M = np.zeros((r,c), dtype=np.int32)\n",
        "  backtrack = M.copy().astype(np.int)\n",
        "  M[0] = e[0]\n",
        "  \n",
        "  strides = M[0].strides+(M[0].strides[-1],)\n",
        "  idx_offset = np.pad(np.arange(c-1), (1,0), 'edge') \n",
        "\n",
        "  for i in range(1,r):\n",
        "    w_arr = np.lib.stride_tricks.as_strided(np.pad(M[i-1],(1,1),'edge') , shape=(c,3), strides=strides)\n",
        "    min_idx =  np.argmin(w_arr, axis=1) + idx_offset\n",
        "    M[i] = e[i] + M[i-1][min_idx]\n",
        "    backtrack[i] = min_idx \n",
        "    \n",
        "  min_seam = np.zeros(r, dtype=np.int)\n",
        "  j = np.argmin(M[-1])\n",
        "  \n",
        "  for i in range(r-1,-1,-1):\n",
        "    min_seam[i] = j\n",
        "    j = backtrack[i,j]\n",
        "\n",
        "  return min_seam\n",
        "\n",
        "\n"
      ],
      "execution_count": null,
      "outputs": []
    },
    {
      "cell_type": "code",
      "metadata": {
        "id": "g3yXBHOLXJWr"
      },
      "source": [
        "# gets matrix, and 4 coordinates x1 < x2 , y1 < y2 for square\n",
        "# create mask for m with ones all over the square\n",
        "\n",
        "def create_square_mask(m, x1, x2, y1, y2):\n",
        "  r,c = m.shape[:2]\n",
        "  mask = np.zeros(r*c, np.bool)\n",
        "  X = np.arange(x1, x2+1)\n",
        "  idx = np.stack([X]*(y2-y1+1), axis=1) + np.arange(y1,y2+1)*c\n",
        "  mask[idx.flatten()] = 1\n",
        "  return mask.reshape((r,c))\n",
        "\n",
        "\n",
        "# gets m = matrix which each column fill with column indexes to put ones in the mask over a row\n",
        "# r = num rows of mask\n",
        "# c = num columns of mask\n",
        "# d = depth of the mask , None for 2D \n",
        "# return the desired mask\n",
        "\n",
        "def create_mask(m, r, c, d=None):\n",
        "  _ , c_m = m.shape\n",
        "  mask = np.zeros(r*c, dtype=np.bool)\n",
        "  offsets = np.arange(0,r*c,c)\n",
        "  offsets = np.repeat(offsets, c_m)\n",
        "  mask[offsets+m.flatten()] = 1\n",
        "  mask = mask.reshape((r,c))\n",
        "  \n",
        "  if not d:\n",
        "    return mask\n",
        "  \n",
        "  return np.stack([mask]*d, axis=2)\n"
      ],
      "execution_count": null,
      "outputs": []
    },
    {
      "cell_type": "code",
      "metadata": {
        "id": "et2TO-GhPlCw"
      },
      "source": [
        "# Gets m = matrix, \n",
        "# seam = array of column indexes\n",
        "# d = depth of m , None for 2D\n",
        "# return m without the seam\n",
        "\n",
        "def remove_seam(m, seam, d = None):\n",
        "  r,c = m.shape[:2]\n",
        "  mask = ~create_mask(seam.reshape((r,1)),r,c,d)\n",
        "  if not d:\n",
        "    return m[mask].reshape((r, c-1))\n",
        "  return m[mask].reshape((r, c-1,d))\n",
        "\n",
        "\n",
        "# img = numpy array of image\n",
        "# mask = mask for the image with ones indicate for removel\n",
        "# value = value to put in the unwanted cells for energy map \n",
        "# return the update img, and number of seam that been removed\n",
        "\n",
        "def remove_seams(img, mask, value = 0):\n",
        "  n = 0\n",
        "  while np.any(mask):\n",
        "    n += 1 \n",
        "    e = get_energy_map(img)\n",
        "    e = np.int64(e)\n",
        "    e[mask] = value\n",
        "    m_seam = get_min_seam(img, e)\n",
        "    img = remove_seam(img, m_seam, 3)\n",
        "    mask = remove_seam(mask, m_seam)\n",
        "  return img, n\n",
        "\n",
        "\n",
        "\n",
        "# img = numpy array of image\n",
        "# seam = array of column indexes for each row in the image\n",
        "# returns image with duplicate seam \n",
        "\n",
        "def insert_seam(img, seam):\n",
        "  r,c,d = img.shape\n",
        "  pad_img = np.pad(img, [(0,0),(1,0),(0,0)], 'edge')\n",
        "  \n",
        "  seams = np.concatenate((seam, seam+1)).reshape((2,r)).T \n",
        "  mask = create_mask(seams, r, c+1, d)\n",
        "\n",
        "  seams_values = pad_img[mask].reshape((r,2,d))\n",
        "  mean_p = seams_values.mean(axis=1)\n",
        "  \n",
        "  offset = np.arange(0,r*c*d,c*d)\n",
        "  seam = seam * d + offset\n",
        "  new_img = np.insert(img, np.repeat(seam,d), mean_p.flatten())\n",
        "  return new_img.reshape((r,c+1,d))\n",
        "   "
      ],
      "execution_count": null,
      "outputs": []
    },
    {
      "cell_type": "code",
      "metadata": {
        "id": "0mcTTDSQczHI"
      },
      "source": [
        "# img = numpy array of image\n",
        "# seam = array of column indexes for each row in the image\n",
        "# returns image with black draw of the seam\n",
        "\n",
        "def draw_seam(img, seam):\n",
        "  new_img = img.copy()\n",
        "  for i in range(seam.size):\n",
        "    new_img[i,seam[i]] = np.repeat(0,3)\n",
        "  return new_img\n",
        "\n"
      ],
      "execution_count": null,
      "outputs": []
    },
    {
      "cell_type": "code",
      "metadata": {
        "id": "gBTCUnve9rek"
      },
      "source": [
        "# img = numpy array of image\n",
        "# n = num of seams to get\n",
        "# returns array of optimal seams\n",
        "\n",
        "def get_optimal_seams(img, n):\n",
        "  r,c,d = img.shape\n",
        "  temp_img = img\n",
        "  min_seams = np.zeros((n,r),dtype=np.int)\n",
        "  \n",
        "  for i in range(n):\n",
        "    e = get_energy_map(temp_img)\n",
        "    min_seam = get_min_seam(temp_img ,e)\n",
        "    min_seams[i] = min_seam\n",
        "    temp_img = remove_seam(temp_img, min_seam, 3)\n",
        "\n",
        "  return min_seams\n",
        "\n",
        "\n",
        "# img = numpy array of image\n",
        "# seams = array of optimal seams \n",
        "# returns vmap of the image for resize to smaller size \n",
        "def create_vmap_resize(img, seams):\n",
        "  r,c,d = img.shape\n",
        "  map = np.full((r,c), c+1)\n",
        "  n_seams = len(seams)\n",
        "\n",
        "  for i in range(n_seams):\n",
        "    m_seam = seams[i]\n",
        "    mask = create_mask(m_seam.reshape((r,1)), r, c, 1).reshape((r,c))\n",
        "    map[mask] = i\n",
        "    \n",
        "    for j in range(i+1,n_seams):\n",
        "      c_seam = seams[j]\n",
        "      c_seam[c_seam >= m_seam] += 1\n",
        "      m_seam[c_seam < m_seam] -= 1  \n",
        "  \n",
        "  return map\n",
        "\n",
        "\n",
        "# img = numpy array of image\n",
        "# seams = array of optimal seams \n",
        "# idx = idx to start with in the placement for the vmap\n",
        "# returns vmap of the image to enlarge the size \n",
        "def update_vmap_enlarge(img, seams, idx, map = None):\n",
        "  \n",
        "  r,c,d = img.shape\n",
        "  \n",
        "  if map is None:\n",
        "    map = np.zeros((r,c), dtype=np.int)\n",
        "  \n",
        "  offset = np.arange(r)\n",
        "  n_seams = len(seams)\n",
        "    \n",
        "  for i in range(n_seams):\n",
        "    m_seam = seams[i]\n",
        "    map = np.insert(map,m_seam + offset*c, np.negative(idx)).reshape((r,c+1)) \n",
        "    idx += 1\n",
        "    img = insert_seam(img, m_seam)\n",
        "    c += 1\n",
        "      \n",
        "    for j in range(i+1, n_seams):\n",
        "      c_seam = seams[j]\n",
        "      c_seam[c_seam >= m_seam] += 2\n",
        "      m_seam[c_seam < m_seam] -= 1\n",
        "      \n",
        "  return img, map\n",
        "  \n",
        "\n",
        "\n"
      ],
      "execution_count": null,
      "outputs": []
    },
    {
      "cell_type": "code",
      "metadata": {
        "id": "WbH5nhtq9ZfF"
      },
      "source": [
        "# img = numpy array of image\n",
        "# scale = 0 < float < 1 indicate how much to scale the image horizontally \n",
        "# returns the new image and the according vmap \n",
        "def create_vmap_h(img, scale):\n",
        "  r,c,d = img.shape\n",
        "  n_seams = int(scale * c)\n",
        "\n",
        "  resize_seams = get_optimal_seams(img, n_seams)\n",
        "  \n",
        "  n_step1 = int(scale*0.6*c)\n",
        "  enlarge_seams = resize_seams[:n_step1].copy()\n",
        "\n",
        "  map = create_vmap_resize(img, resize_seams)\n",
        "  map_img = img.copy()\n",
        "  map_img, map = update_vmap_enlarge(map_img, enlarge_seams, 1, map)\n",
        "\n",
        "  n_step2 = int(scale*0.4*c)\n",
        "  enlarge_seams = get_optimal_seams(map_img, n_step2)\n",
        "\n",
        "  map_img, map = update_vmap_enlarge(map_img, enlarge_seams, n_step1+1, map)\n",
        "\n",
        "  return map_img, map\n",
        "\n",
        "\n",
        "# img = numpy array of image\n",
        "# scale = 0 < float < 1 indicate how much to scale the image vertically  \n",
        "# returns the new image and the according vmap \n",
        "def create_vmap_v(img, scale):\n",
        "  new_img = np.rot90(img, 1, (0, 1))\n",
        "  map_img, map = create_vmap_h(new_img, scale)\n",
        "  return map_img, map\n"
      ],
      "execution_count": null,
      "outputs": []
    },
    {
      "cell_type": "code",
      "metadata": {
        "id": "zzFYunTTHxjF"
      },
      "source": [
        "# img = numpy array of origin image\n",
        "# scale = float to indicate how much to scale the image \n",
        "# map_img = the accordingly vmap for the image\n",
        "# map = the accordingly vmap\n",
        "\n",
        "def scale_img_(img, scale, map_img, map, is_horizontal):\n",
        "  r, c, d = img.shape\n",
        "  \n",
        "  if not is_horizontal:\n",
        "    r, c = c, r\n",
        "  \n",
        "  new_c = int(scale*c)\n",
        " \n",
        "  if new_c > map.shape[1]:\n",
        "    new_c = map.shape[1]\n",
        "\n",
        "  map = (map >= (c - new_c))\n",
        "  mask = np.stack([map] * d, axis=2)\n",
        "  new_img = map_img[mask].reshape((r, new_c, d))\n",
        "  return new_img if is_horizontal else np.rot90(new_img, 1, (1, 0))"
      ],
      "execution_count": null,
      "outputs": []
    },
    {
      "cell_type": "code",
      "metadata": {
        "id": "VoQmM8IT90g1"
      },
      "source": [
        "# utils functions for the anvil app\n",
        "\n",
        "def process_image(path):\n",
        "  img = cv.imread(path)\n",
        "  vmap_img_h, vmap_h = create_vmap_h(img, SCALE)\n",
        "  vmap_img_v, vmap_v = create_vmap_v(img, SCALE)\n",
        "  return img, vmap_img_h, vmap_h, vmap_img_v, vmap_v\n",
        "\n",
        "def url2img(url):\n",
        "  try:\n",
        "    img = skimage_io.imread(url)\n",
        "  except:\n",
        "    return None\n",
        "\n",
        "  img = cv.resize(img,(ROW,WIDTH))\n",
        "  img = cv.cvtColor(img,cv.COLOR_BGR2RGB)\n",
        "  return img\n",
        "\n",
        "def img2media(img):\n",
        "  is_success, im_buf_arr = cv.imencode(\".jpg\", img)\n",
        "  io_buf = io.BytesIO(im_buf_arr)\n",
        "  byte_im = io_buf.getvalue()\n",
        "  return anvil.BlobMedia('image/jpeg', byte_im)\n",
        "\n",
        "\n"
      ],
      "execution_count": null,
      "outputs": []
    },
    {
      "cell_type": "code",
      "metadata": {
        "id": "FY_itJEU4P4s"
      },
      "source": [
        "# img = numpy array of origin image\n",
        "# 4 coordinates of square\n",
        "# return new img without the square\n",
        " \n",
        "def object_removal(img, x1, x2, y1, y2):\n",
        "  mask = create_square_mask(img, x1, x2, y1, y2)\n",
        "\n",
        "  img, n = remove_seams(img, mask, NEG_VALUE)\n",
        "\n",
        "  step1_n = int(n * 0.6)\n",
        "  seams = get_optimal_seams(img, step1_n)\n",
        "  img = update_vmap_enlarge(img, seams, 1)[0]\n",
        "\n",
        "  step2_n = int(n * 0.4)\n",
        "  seams = get_optimal_seams(img, step2_n)\n",
        "  img = update_vmap_enlarge(img, seams, 1)[0]\n",
        "\n",
        "  return img\n",
        "\n"
      ],
      "execution_count": null,
      "outputs": []
    },
    {
      "cell_type": "code",
      "metadata": {
        "id": "TPvw00KQJCeB"
      },
      "source": [
        "# server side functions\n",
        "\n",
        "@anvil.server.callable\n",
        "def load_img(url, is_built_in_img):\n",
        "  global i_img\n",
        "  if is_built_in_img:\n",
        "    i_img = (i_img + 1)%num_img\n",
        "    media_img = img2media(images[i_img]['img'])\n",
        "  else:  \n",
        "    global img\n",
        "    img = url2img(url)\n",
        "    \n",
        "    if img is None:\n",
        "      return -1\n",
        "    \n",
        "    media_img = img2media(img)\n",
        "  \n",
        "  return {'media_img': media_img}\n",
        "\n",
        "\n",
        "@anvil.server.callable\n",
        "def create_vmap(is_horizontal):\n",
        "  global img\n",
        "\n",
        "  if is_horizontal:\n",
        "    global vmap_img_h, vmap_h\n",
        "    vmap_img_h, vmap_h = create_vmap_h(img, SCALE)\n",
        "  \n",
        "  else:\n",
        "    global vmap_img_v, vmap_v\n",
        "    vmap_img_v, vmap_v = create_vmap_v(img, SCALE)\n",
        "\n",
        "  return 1\n",
        "\n",
        "\n",
        "\n",
        "\n",
        "@anvil.server.callable\n",
        "def scale_img(scale, is_horizontal, is_built_in_img):\n",
        "  if is_built_in_img:\n",
        "    if is_horizontal:\n",
        "      new_img = scale_img_(images[i_img]['img'], scale, images[i_img]['vmap_img_h'], images[i_img]['vmap_h'], is_horizontal)\n",
        "    else:\n",
        "      new_img = scale_img_(images[i_img]['img'], scale, images[i_img]['vmap_img_v'], images[i_img]['vmap_v'], is_horizontal)\n",
        "  else:\n",
        "    if is_horizontal:\n",
        "      new_img = scale_img_(img, scale, vmap_img_h, vmap_h, is_horizontal)\n",
        "    else:\n",
        "      new_img = scale_img_(img, scale, vmap_img_v, vmap_v, is_horizontal)\n",
        "\n",
        "  img_media = img2media(new_img)\n",
        "  return {'img_media': img_media}\n",
        "\n",
        "\n",
        "@anvil.server.callable\n",
        "def remove_object(x1, x2, y1, y2, is_built_in_img):\n",
        "  if is_built_in_img:\n",
        "    new_img = object_removal(images[i_img]['img'], x1, x2, y1, y2)\n",
        "  else:\n",
        "    new_img = object_removal(img, x1, x2, y1, y2)\n",
        "\n",
        "  img_media = img2media(new_img)\n",
        "  return {'img_media': img_media}\n",
        "\n",
        "\n",
        "  "
      ],
      "execution_count": null,
      "outputs": []
    },
    {
      "cell_type": "code",
      "metadata": {
        "id": "ObLDFQnC-uXH"
      },
      "source": [
        "# main for the anvil app\n",
        "\n",
        "def main():\n",
        "  global images\n",
        "  \n",
        "  for name in img_names:\n",
        "    img, vmap_img_h, vmap_h, vmap_img_v, vmap_v = process_image(path+name)\n",
        "    \n",
        "    images.append(\n",
        "        {\n",
        "            'img': img,\n",
        "            'vmap_img_h':vmap_img_h,\n",
        "            'vmap_h': vmap_h,\n",
        "            'vmap_img_v': vmap_img_v,\n",
        "            'vmap_v': vmap_v,\n",
        "        }\n",
        "    )\n",
        "    \n",
        "\n",
        "\n",
        "main()\n",
        "\n",
        "\n"
      ],
      "execution_count": null,
      "outputs": []
    },
    {
      "cell_type": "markdown",
      "metadata": {
        "id": "2-E821LsBa4S"
      },
      "source": [
        "## Sample code to test\n"
      ]
    },
    {
      "cell_type": "code",
      "metadata": {
        "id": "ixBLUSN1Ahu1"
      },
      "source": [
        "# load the image on 640 * 420 \n",
        "\n",
        "url = 'https://images.unsplash.com/photo-1456132022829-e771cbd1f7da?ixid=MXwxMjA3fDB8MHxwaG90by1wYWdlfHx8fGVufDB8fHw%3D&ixlib=rb-1.2.1&auto=format&fit=crop&w=1498&q=80'\n",
        "\n",
        "img = url2img(url)\n",
        "cv2_imshow(img)\n"
      ],
      "execution_count": 53,
      "outputs": []
    },
    {
      "cell_type": "code",
      "metadata": {
        "id": "n8hO8Ak4Be_E"
      },
      "source": [
        "# create the accordingly vmaps , scale between 0 to 1 indicate how much to scale the image\n",
        "# take approximately 50 seconds for both horizontally and vertically  \n",
        "\n",
        "t = time.time()\n",
        "\n",
        "vmap_img_h, vmap_h = create_vmap_h(img, 0.8)\n",
        "# vmap_img_v, vmap_v = create_vmap_v(img, 0.6)\n",
        "\n",
        "print('Finished create the vmaps after {} seconds'.format(time.time() - t))"
      ],
      "execution_count": 54,
      "outputs": []
    },
    {
      "cell_type": "code",
      "metadata": {
        "id": "ovbur07dCSIm"
      },
      "source": [
        "# scale the image\n",
        "# pass scale , vmap_img, vmap, true for horizontal and false for vertically \n",
        "\n",
        "scale_img = scale_img_(img, 1.5, vmap_img_h, vmap_h, True)\n",
        "\n",
        "cv2_imshow(scale_img)"
      ],
      "execution_count": 55,
      "outputs": []
    },
    {
      "cell_type": "code",
      "metadata": {
        "id": "FkBLer-fD9Up"
      },
      "source": [
        "# removing the sign from the image\n",
        " \n",
        "new_img = object_removal(img,239, 299, 196, 253)\n",
        "\n",
        "cv2_imshow(new_img)"
      ],
      "execution_count": 56,
      "outputs": []
    }
  ]
}